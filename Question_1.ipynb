{
  "cells": [
    {
      "cell_type": "code",
      "execution_count": 1,
      "id": "3b3e8fcd",
      "metadata": {
        "id": "3b3e8fcd"
      },
      "outputs": [],
      "source": [
        "import torch\n",
        "import torch.nn as nn\n",
        "import torch.nn.functional as F\n",
        "import torch.optim as optim"
      ]
    },
    {
      "cell_type": "code",
      "execution_count": 2,
      "id": "9dd4d9f3",
      "metadata": {
        "colab": {
          "base_uri": "https://localhost:8080/"
        },
        "id": "9dd4d9f3",
        "outputId": "f09e8885-4e80-4f01-b4a4-23f07fb8d7fd"
      },
      "outputs": [
        {
          "output_type": "execute_result",
          "data": {
            "text/plain": [
              "{'Artificial',\n",
              " 'Intelligence',\n",
              " 'and',\n",
              " 'applications',\n",
              " 'can',\n",
              " 'humans',\n",
              " 'in',\n",
              " 'jobs',\n",
              " 'replace',\n",
              " 'several'}"
            ]
          },
          "metadata": {},
          "execution_count": 2
        }
      ],
      "source": [
        "test_sentence = \"Artificial Intelligence can replace humans in several jobs and applications\".split()\n",
        "vocab = set(test_sentence)\n",
        "vocab"
      ]
    },
    {
      "cell_type": "code",
      "execution_count": 3,
      "id": "cd5fbb54",
      "metadata": {
        "colab": {
          "base_uri": "https://localhost:8080/"
        },
        "id": "cd5fbb54",
        "outputId": "7de3d899-f57a-437b-bb80-bc9763ae919a"
      },
      "outputs": [
        {
          "output_type": "execute_result",
          "data": {
            "text/plain": [
              "{'can': 0,\n",
              " 'several': 1,\n",
              " 'applications': 2,\n",
              " 'jobs': 3,\n",
              " 'humans': 4,\n",
              " 'Intelligence': 5,\n",
              " 'and': 6,\n",
              " 'in': 7,\n",
              " 'Artificial': 8,\n",
              " 'replace': 9}"
            ]
          },
          "metadata": {},
          "execution_count": 3
        }
      ],
      "source": [
        "word_to_ix = {word: i for i, word in enumerate(vocab)}\n",
        "word_to_ix"
      ]
    },
    {
      "cell_type": "code",
      "execution_count": 4,
      "id": "a0435345",
      "metadata": {
        "id": "a0435345"
      },
      "outputs": [],
      "source": [
        "n_grams = [([test_sentence[i-2], test_sentence[i - 1], test_sentence[i + 1], test_sentence[i + 2]], test_sentence[i])\n",
        "  for i in range(2, len(test_sentence) - 2)]"
      ]
    },
    {
      "cell_type": "code",
      "source": [
        "for item in n_grams:\n",
        "    print(item)"
      ],
      "metadata": {
        "colab": {
          "base_uri": "https://localhost:8080/"
        },
        "id": "-Cie92A8Zx6o",
        "outputId": "e5fd790f-00d6-49e2-e6c4-a224a9a59ea2"
      },
      "id": "-Cie92A8Zx6o",
      "execution_count": 5,
      "outputs": [
        {
          "output_type": "stream",
          "name": "stdout",
          "text": [
            "(['Artificial', 'Intelligence', 'replace', 'humans'], 'can')\n",
            "(['Intelligence', 'can', 'humans', 'in'], 'replace')\n",
            "(['can', 'replace', 'in', 'several'], 'humans')\n",
            "(['replace', 'humans', 'several', 'jobs'], 'in')\n",
            "(['humans', 'in', 'jobs', 'and'], 'several')\n",
            "(['in', 'several', 'and', 'applications'], 'jobs')\n"
          ]
        }
      ]
    },
    {
      "cell_type": "code",
      "execution_count": 6,
      "id": "8fbf2ee4",
      "metadata": {
        "id": "8fbf2ee4"
      },
      "outputs": [],
      "source": [
        "class NGramLanguageModeler(nn.Module):\n",
        "  def __init__(self, vocab_size, embedding_dim, context_size):\n",
        "    super(NGramLanguageModeler, self).__init__()\n",
        "    self.embeddings = nn.Embedding(vocab_size, embedding_dim)\n",
        "    self.linear1 = nn.Linear(context_size * embedding_dim, 128)\n",
        "    self.linear2 = nn.Linear(128, vocab_size)\n",
        "\n",
        "  def forward(self, inputs):\n",
        "    embeds = self.embeddings(inputs).view((1, -1))\n",
        "    out = F.relu(self.linear1(embeds))\n",
        "    out = self.linear2(out)\n",
        "    log_probs = F.log_softmax(out, dim=1)\n",
        "    return log_probs"
      ]
    },
    {
      "cell_type": "code",
      "execution_count": 81,
      "id": "aa41cdfd",
      "metadata": {
        "id": "aa41cdfd"
      },
      "outputs": [],
      "source": [
        "CONTEXT_SIZE = 4\n",
        "EMBEDDING_DIM = 3"
      ]
    },
    {
      "cell_type": "code",
      "execution_count": 52,
      "id": "77746d11",
      "metadata": {
        "id": "77746d11"
      },
      "outputs": [],
      "source": [
        "losses = []\n",
        "acc=[]\n",
        "loss_function = nn.NLLLoss()\n",
        "model = NGramLanguageModeler(len(vocab), EMBEDDING_DIM, CONTEXT_SIZE)\n",
        "optimizer = optim.SGD(model.parameters(), lr=0.001)"
      ]
    },
    {
      "cell_type": "code",
      "execution_count": 53,
      "id": "2944a13b",
      "metadata": {
        "id": "2944a13b"
      },
      "outputs": [],
      "source": [
        "for epoch in range(1000):\n",
        "  total_loss = 0\n",
        "  num_correct = 0\n",
        "  num_examples = 0\n",
        "  for context, target in n_grams:\n",
        "\n",
        "      context_idxs = torch.tensor([word_to_ix[w] for w in context], dtype=torch.long)\n",
        "      model.zero_grad()\n",
        "      log_probs = model(context_idxs)\n",
        "      loss = loss_function(log_probs, torch.tensor([word_to_ix[target]], dtype=torch.long))\n",
        "      loss.backward()\n",
        "      optimizer.step()\n",
        "      \n",
        "      topv, topi = log_probs.topk(1)\n",
        "      prediction = topi.item()\n",
        "\n",
        "      if prediction == word_to_ix.get(target):\n",
        "          num_correct += 1\n",
        "      num_examples += 1\n",
        "\n",
        "      total_loss += loss.item()\n",
        "      \n",
        "  train_loss = total_loss / len(n_grams)\n",
        "  train_acc = (num_correct / num_examples)*100\n",
        "  losses.append(train_loss)\n",
        "  acc.append(train_acc)"
      ]
    },
    {
      "cell_type": "code",
      "execution_count": 77,
      "id": "e48ea536",
      "metadata": {
        "colab": {
          "base_uri": "https://localhost:8080/",
          "height": 257
        },
        "id": "e48ea536",
        "outputId": "83ef0732-303f-47b8-dee1-d39acfa57daa"
      },
      "outputs": [
        {
          "output_type": "display_data",
          "data": {
            "text/plain": [
              "<Figure size 1500x500 with 2 Axes>"
            ],
            "image/png": "[encoded data removed]"
          },
          "metadata": {}
        }
      ],
      "source": [
        "import matplotlib.pyplot as plt\n",
        "import numpy as np\n",
        "\n",
        "plt.rcParams[\"figure.figsize\"] = (15, 5)\n",
        "\n",
        "plt.subplot(1, 2, 1)\n",
        "plt.title(\"Loss vs epoch with lr = 0.001\")\n",
        "plt.xlabel('Epoch')\n",
        "plt.ylabel('Loss')\n",
        "plt.xticks(np.arange(0, 1001, 100))\n",
        "plt.plot(losses)\n",
        "plt.grid()\n",
        "\n",
        "plt.subplot(1, 2, 2)\n",
        "plt.title(\"Accuracy vs epoch with lr = 0.001\")\n",
        "plt.xlabel('Epoch')\n",
        "plt.ylabel('Accuracy')\n",
        "plt.xticks(np.arange(0, 1001, 100))\n",
        "plt.plot(acc)\n",
        "plt.grid()\n",
        "\n",
        "plt.show()"
      ]
    },
    {
      "cell_type": "code",
      "execution_count": 82,
      "id": "870db9f4",
      "metadata": {
        "colab": {
          "base_uri": "https://localhost:8080/"
        },
        "id": "870db9f4",
        "outputId": "b2421f2f-7aec-48b4-c814-ce39f3189ff6"
      },
      "outputs": [
        {
          "output_type": "stream",
          "name": "stdout",
          "text": [
            "Test Loss: 0.0351 | Test Accuracy: 100.0000\n"
          ]
        }
      ],
      "source": [
        "with torch.no_grad():\n",
        "    total_loss = 0\n",
        "    num_correct = 0\n",
        "    num_examples = 0\n",
        "    for context, target in n_grams:\n",
        "        context_idxs = torch.tensor([word_to_ix[w] for w in context], dtype=torch.long)\n",
        "        log_probs = model(context_idxs)\n",
        "        loss = loss_function(log_probs, torch.tensor([word_to_ix[target]], dtype=torch.long))\n",
        "        total_loss += loss.item()\n",
        "        \n",
        "        topv, topi = log_probs.topk(1)\n",
        "        prediction = topi.item()\n",
        "\n",
        "        if prediction == word_to_ix.get(target):\n",
        "            num_correct += 1\n",
        "        num_examples += 1\n",
        "        \n",
        "    test_loss = total_loss / len(n_grams)\n",
        "    test_acc = (num_correct / num_examples)*100\n",
        "    print(f\"Test Loss: {test_loss:.4f} | Test Accuracy: {test_acc:.4f}\")"
      ]
    },
    {
      "cell_type": "code",
      "source": [
        "with torch.no_grad():\n",
        "    context = ['can', 'replace', 'in', 'several']\n",
        "    context_idxs = torch.tensor([word_to_ix[w] for w in context], dtype=torch.long)\n",
        "    log_probs = model(context_idxs)\n",
        "    predicted_word = [k for k, v in word_to_ix.items() if v == torch.argmax(log_probs).item()] \n",
        "\n",
        "    print(\"Context:\", context)\n",
        "    print(\"Predicted word:\", predicted_word)"
      ],
      "metadata": {
        "colab": {
          "base_uri": "https://localhost:8080/"
        },
        "id": "YuogqBO4ahOT",
        "outputId": "7c9e005b-ea3c-4e30-9cce-e72ed2f6e3e3"
      },
      "id": "YuogqBO4ahOT",
      "execution_count": 80,
      "outputs": [
        {
          "output_type": "stream",
          "name": "stdout",
          "text": [
            "Context: ['can', 'replace', 'in', 'several']\n",
            "Predicted word: ['humans']\n"
          ]
        }
      ]
    },
    {
      "cell_type": "code",
      "source": [],
      "metadata": {
        "id": "2OciqxKOajjF"
      },
      "id": "2OciqxKOajjF",
      "execution_count": 51,
      "outputs": []
    }
  ],
  "metadata": {
    "kernelspec": {
      "display_name": "Python 3 (ipykernel)",
      "language": "python",
      "name": "python3"
    },
    "language_info": {
      "codemirror_mode": {
        "name": "ipython",
        "version": 3
      },
      "file_extension": ".py",
      "mimetype": "text/x-python",
      "name": "python",
      "nbconvert_exporter": "python",
      "pygments_lexer": "ipython3",
      "version": "3.10.11"
    },
    "colab": {
      "provenance": []
    }
  },
  "nbformat": 4,
  "nbformat_minor": 5
}